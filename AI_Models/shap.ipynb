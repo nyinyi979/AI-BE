{
 "cells": [
  {
   "cell_type": "code",
   "execution_count": null,
   "metadata": {},
   "outputs": [],
   "source": [
    "import shap\n",
    "import torch\n",
    "import numpy as np\n",
    "import matplotlib.pyplot as plt\n",
    "import torchvision.transforms as transforms\n",
    "from torchvision import datasets\n",
    "from torch.utils.data import DataLoader\n",
    "\n",
    "# Load your PyTorch model\n",
    "model = torch.load(\"./transformer_mnist.pth\", map_location=torch.device('cpu'))\n",
    "model.eval()\n",
    "\n",
    "# Load Fashion MNIST Data\n",
    "transform = transforms.Compose([\n",
    "    transforms.ToTensor(),\n",
    "    transforms.Normalize((0.5,), (0.5,))\n",
    "])\n",
    "\n",
    "test_dataset = datasets.FashionMNIST(root=\"./cnn-data\", train=False, transform=transform, download=True)\n",
    "test_loader = DataLoader(test_dataset, batch_size=5, shuffle=True)\n",
    "\n",
    "\n",
    "background, labels = next(iter(test_loader))  # Shape: (5, 1, 28, 28)\n",
    "\n",
    "test_samples = background[:5]  # Select first 5 images\n",
    "\n",
    "explainer = shap.GradientExplainer(model, background)\n",
    "\n",
    "shap_values = explainer.shap_values(test_samples)\n",
    "\n",
    "test_samples_np = test_samples.squeeze().numpy()  # Shape: (5, 28, 28)\n",
    "test_samples_np = np.expand_dims(test_samples_np, axis=-1)  # Shape: (5, 28, 28, 1)\n",
    "\n",
    "# Plot SHAP Explanations\n",
    "shap.image_plot(shap_values, test_samples_np)"
   ]
  }
 ],
 "metadata": {
  "kernelspec": {
   "display_name": "base",
   "language": "python",
   "name": "python3"
  },
  "language_info": {
   "codemirror_mode": {
    "name": "ipython",
    "version": 3
   },
   "file_extension": ".py",
   "mimetype": "text/x-python",
   "name": "python",
   "nbconvert_exporter": "python",
   "pygments_lexer": "ipython3",
   "version": "3.12.2"
  }
 },
 "nbformat": 4,
 "nbformat_minor": 2
}
